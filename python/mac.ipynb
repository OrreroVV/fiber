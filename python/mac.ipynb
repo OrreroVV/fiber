{
 "cells": [
  {
   "cell_type": "code",
   "execution_count": 1,
   "metadata": {},
   "outputs": [
    {
     "name": "stdout",
     "output_type": "stream",
     "text": [
      "客户端生成的 HMAC: 51083ccc7ce9c2ae695087063b8fa6e10c786beca7379f60838c0d900a3e8e63\n",
      "消息是否未被篡改: True\n",
      "篡改后的消息是否未被篡改: False\n"
     ]
    }
   ],
   "source": [
    "import hmac\n",
    "import hashlib\n",
    "\n",
    "# 双方协商出的共享 MAC 密钥（通常由 Master Secret 派生）\n",
    "mac_key = b'shared_mac_key_32bytes_longgggggggggg'\n",
    "\n",
    "# 客户端要发送的消息\n",
    "message = b'hello, this is a TLS message'\n",
    "\n",
    "# --- 客户端生成 MAC ---\n",
    "def generate_hmac(key, message):\n",
    "    return hmac.new(key, message, hashlib.sha256).digest()\n",
    "\n",
    "client_hmac = generate_hmac(mac_key, message)\n",
    "print(\"客户端生成的 HMAC:\", client_hmac.hex())\n",
    "\n",
    "# --- 模拟消息被服务端接收 ---\n",
    "# 服务端接收到 message 和 client_hmac\n",
    "\n",
    "# --- 服务端验证 HMAC ---\n",
    "def verify_hmac(key, message, received_hmac):\n",
    "    expected_hmac = hmac.new(key, message, hashlib.sha256).digest()\n",
    "    return hmac.compare_digest(expected_hmac, received_hmac)\n",
    "\n",
    "# 验证是否被篡改\n",
    "is_valid = verify_hmac(mac_key, message, client_hmac)\n",
    "print(\"消息是否未被篡改:\", is_valid)\n",
    "\n",
    "# --- 模拟篡改消息 ---\n",
    "tampered_message = b'hello, this is a TLS messAge'  # 篡改了一个字母\n",
    "\n",
    "is_valid_tampered = verify_hmac(mac_key, tampered_message, client_hmac)\n",
    "print(\"篡改后的消息是否未被篡改:\", is_valid_tampered)\n"
   ]
  },
  {
   "cell_type": "code",
   "execution_count": 2,
   "metadata": {},
   "outputs": [
    {
     "name": "stdout",
     "output_type": "stream",
     "text": [
      "[Client] 发送加密消息和 IV\n",
      "\n",
      "[Server] 解密后明文: This is a confidential TLS message.\n",
      "[Server] 校验 MAC 是否一致: True\n"
     ]
    }
   ],
   "source": [
    "import os\n",
    "import hmac\n",
    "import hashlib\n",
    "from cryptography.hazmat.primitives.ciphers import Cipher, algorithms, modes\n",
    "from cryptography.hazmat.primitives.asymmetric import dh\n",
    "from cryptography.hazmat.primitives import padding\n",
    "\n",
    "# 1. DH 密钥交换\n",
    "parameters = dh.generate_parameters(generator=2, key_size=2048)\n",
    "client_private = parameters.generate_private_key()\n",
    "server_private = parameters.generate_private_key()\n",
    "client_public = client_private.public_key()\n",
    "server_public = server_private.public_key()\n",
    "shared_secret = client_private.exchange(server_public)\n",
    "assert shared_secret == server_private.exchange(client_public)\n",
    "\n",
    "# 2. 派生主密钥 -> 加密密钥 & MAC 密钥（简单示例用 SHA256 hash 拆分）\n",
    "master_secret = hashlib.sha256(shared_secret).digest()\n",
    "encryption_key = master_secret[:16]  # AES-128\n",
    "mac_key = master_secret[16:]        # 余下作为 HMAC key\n",
    "\n",
    "# 3. 客户端准备发送消息\n",
    "plaintext = b\"This is a confidential TLS message.\"\n",
    "\n",
    "# 3.1 计算 MAC（先计算 MAC，再加密）\n",
    "mac = hmac.new(mac_key, plaintext, hashlib.sha256).digest()\n",
    "\n",
    "# 3.2 拼接消息 + MAC\n",
    "message_with_mac = plaintext + mac\n",
    "\n",
    "# 3.3 AES-CBC 加密\n",
    "iv = os.urandom(16)\n",
    "padder = padding.PKCS7(128).padder()\n",
    "padded_data = padder.update(message_with_mac) + padder.finalize()\n",
    "cipher = Cipher(algorithms.AES(encryption_key), modes.CBC(iv))\n",
    "encryptor = cipher.encryptor()\n",
    "ciphertext = encryptor.update(padded_data) + encryptor.finalize()\n",
    "\n",
    "print(\"[Client] 发送加密消息和 IV\")\n",
    "\n",
    "# ------------------------ 服务端接收并处理 ------------------------\n",
    "\n",
    "# 4. 服务端接收 ciphertext 和 IV，解密\n",
    "cipher = Cipher(algorithms.AES(encryption_key), modes.CBC(iv))\n",
    "decryptor = cipher.decryptor()\n",
    "decrypted_padded = decryptor.update(ciphertext) + decryptor.finalize()\n",
    "\n",
    "# 4.1 去填充\n",
    "unpadder = padding.PKCS7(128).unpadder()\n",
    "decrypted = unpadder.update(decrypted_padded) + unpadder.finalize()\n",
    "\n",
    "# 4.2 拆出原文与 MAC\n",
    "recv_plaintext = decrypted[:-32]\n",
    "recv_mac = decrypted[-32:]\n",
    "\n",
    "# 4.3 重新计算 MAC 验证完整性\n",
    "expected_mac = hmac.new(mac_key, recv_plaintext, hashlib.sha256).digest()\n",
    "is_valid = hmac.compare_digest(recv_mac, expected_mac)\n",
    "\n",
    "# 输出结果\n",
    "print(\"\\n[Server] 解密后明文:\", recv_plaintext.decode())\n",
    "print(\"[Server] 校验 MAC 是否一致:\", is_valid)\n"
   ]
  }
 ],
 "metadata": {
  "kernelspec": {
   "display_name": "Python 3",
   "language": "python",
   "name": "python3"
  },
  "language_info": {
   "codemirror_mode": {
    "name": "ipython",
    "version": 3
   },
   "file_extension": ".py",
   "mimetype": "text/x-python",
   "name": "python",
   "nbconvert_exporter": "python",
   "pygments_lexer": "ipython3",
   "version": "3.8.10"
  }
 },
 "nbformat": 4,
 "nbformat_minor": 2
}
